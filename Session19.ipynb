{
  "nbformat": 4,
  "nbformat_minor": 0,
  "metadata": {
    "colab": {
      "provenance": [],
      "authorship_tag": "ABX9TyPitAqVfyKpys+UTWalcw/h",
      "include_colab_link": true
    },
    "kernelspec": {
      "name": "python3",
      "display_name": "Python 3"
    },
    "language_info": {
      "name": "python"
    }
  },
  "cells": [
    {
      "cell_type": "markdown",
      "metadata": {
        "id": "view-in-github",
        "colab_type": "text"
      },
      "source": [
        "<a href=\"https://colab.research.google.com/github/antonyrajesh123/Session19/blob/main/Session19.ipynb\" target=\"_parent\"><img src=\"https://colab.research.google.com/assets/colab-badge.svg\" alt=\"Open In Colab\"/></a>"
      ]
    },
    {
      "cell_type": "code",
      "execution_count": 4,
      "metadata": {
        "colab": {
          "base_uri": "https://localhost:8080/"
        },
        "id": "retJKtQhTWFz",
        "outputId": "60132278-6461-421f-cd63-f5093fe8bfce"
      },
      "outputs": [
        {
          "output_type": "stream",
          "name": "stdout",
          "text": [
            "Optimal Value Function:\n",
            "[[-59.42367735 -57.42387125 -54.2813141  -51.71012579]\n",
            " [-57.42387125 -54.56699476 -49.71029394 -45.13926711]\n",
            " [-54.2813141  -49.71029394 -40.85391609 -29.99766609]\n",
            " [-51.71012579 -45.13926711 -29.99766609   0.        ]]\n"
          ]
        }
      ],
      "source": [
        "import numpy as np\n",
        "\n",
        "# GridWorld size\n",
        "GRID_SIZE = 4\n",
        "NUM_STATES = GRID_SIZE * GRID_SIZE\n",
        "ACTIONS = [(-1, 0), (1, 0), (0, -1), (0, 1)]  # Up, Down, Left, Right\n",
        "GAMMA = 1.0\n",
        "THRESHOLD = 1e-4\n",
        "\n",
        "# Initialize Value Function\n",
        "V = np.zeros(NUM_STATES)\n",
        "\n",
        "def get_next_states(state):\n",
        "    \"\"\"Returns possible next states from the given state.\"\"\"\n",
        "    x, y = divmod(state, GRID_SIZE)\n",
        "    next_states = []\n",
        "\n",
        "    for dx, dy in ACTIONS:\n",
        "        nx, ny = x + dx, y + dy\n",
        "        if 0 <= nx < GRID_SIZE and 0 <= ny < GRID_SIZE:\n",
        "            next_states.append(nx * GRID_SIZE + ny)  # Convert (x, y) to state index\n",
        "        else:\n",
        "            next_states.append(state)  # Stay in the same state if out of bounds\n",
        "\n",
        "    return next_states\n",
        "\n",
        "# Value Iteration\n",
        "while True:\n",
        "    delta = 0\n",
        "    V_new = np.copy(V)\n",
        "\n",
        "    for state in range(NUM_STATES):\n",
        "        if state == NUM_STATES - 1:  # Terminal state (bottom-right corner)\n",
        "            continue\n",
        "\n",
        "        next_states = get_next_states(state)\n",
        "        expected_value = np.mean([-1 + GAMMA * V[s] for s in next_states])  # Bellman update\n",
        "\n",
        "        delta = max(delta, abs(expected_value - V[state]))  # Track max change\n",
        "        V_new[state] = expected_value\n",
        "\n",
        "    V = V_new\n",
        "\n",
        "    if delta < THRESHOLD:  # Convergence condition\n",
        "        break\n",
        "\n",
        "# Print final value function\n",
        "V_grid = V.reshape((GRID_SIZE, GRID_SIZE))\n",
        "print(\"Optimal Value Function:\")\n",
        "print(V_grid)\n",
        "\n"
      ]
    }
  ]
}